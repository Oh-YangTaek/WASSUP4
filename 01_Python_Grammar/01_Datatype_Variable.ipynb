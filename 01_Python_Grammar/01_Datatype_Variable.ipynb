{
 "cells": [
  {
   "cell_type": "markdown",
   "id": "7d84468d-aa14-4382-93e0-1e92e652bcd6",
   "metadata": {},
   "source": [
    "# 변수와자료형"
   ]
  },
  {
   "cell_type": "code",
   "execution_count": null,
   "id": "9bdbfbff-23d6-4ce3-8864-62a7f7cd1638",
   "metadata": {},
   "outputs": [],
   "source": [
    "#변수\n"
   ]
  }
 ],
 "metadata": {
  "kernelspec": {
   "display_name": "Python 3 (ipykernel)",
   "language": "python",
   "name": "python3"
  },
  "language_info": {
   "codemirror_mode": {
    "name": "ipython",
    "version": 3
   },
   "file_extension": ".py",
   "mimetype": "text/x-python",
   "name": "python",
   "nbconvert_exporter": "python",
   "pygments_lexer": "ipython3",
   "version": "3.12.4"
  }
 },
 "nbformat": 4,
 "nbformat_minor": 5
}
